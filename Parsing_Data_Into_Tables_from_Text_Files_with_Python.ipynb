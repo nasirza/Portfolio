{
  "nbformat": 4,
  "nbformat_minor": 0,
  "metadata": {
    "colab": {
      "provenance": [],
      "toc_visible": true,
      "authorship_tag": "ABX9TyMElUNZK1Lgzfoi8Q10Vo3W",
      "include_colab_link": true
    },
    "kernelspec": {
      "name": "python3",
      "display_name": "Python 3"
    },
    "language_info": {
      "name": "python"
    }
  },
  "cells": [
    {
      "cell_type": "markdown",
      "metadata": {
        "id": "view-in-github",
        "colab_type": "text"
      },
      "source": [
        "<a href=\"https://colab.research.google.com/github/nasirza/Portfolio/blob/main/Parsing_Data_Into_Tables_from_Text_Files_with_Python.ipynb\" target=\"_parent\"><img src=\"https://colab.research.google.com/assets/colab-badge.svg\" alt=\"Open In Colab\"/></a>"
      ]
    },
    {
      "cell_type": "code",
      "source": [
        "import re\n",
        "import pandas as pd\n",
        "\n",
        "# Define the regular expressions to match each field\n",
        "regexes = {\n",
        "    'GROUP': r'GROUP:\\s+(\\d+)',\n",
        "    'GRP TITLE': r'GRP TITLE:\\s+(.+)',\n",
        "    'FUND': r'FUND:\\s+(.+)',\n",
        "    'ACTIVITY': r'ACTIVITY:\\s+(.+)',\n",
        "    'CSECT IND': r'CSECT IND:\\s+(.+)',\n",
        "    'PIN IND': r'PIN IND:\\s+(.+)',\n",
        "    'LABOR IND': r'LABOR IND:\\s+(.+)',\n",
        "    'PAY AGREE': r'PAY AGREE:\\s+(.+)',\n",
        "    'GROUP CAT': r'GROUP CAT:\\s+(.+)',\n",
        "    'DAMAGE CODE': r'DAMAGE CODE:\\s+(.+)',\n",
        "    'LOCAL': r'LOCAL:\\s+(.+)',\n",
        "    'REIMBURSABLE': r'REIMBURSABLE:\\s+(.+)',\n",
        "    'FEDERAL': r'FEDERAL:\\s+(.+)',\n",
        "    'Group Auth Amt': r'Group Auth Amt:\\s+\\((.+)\\)',\n",
        "    'STATE/NP': r'STATE/NP:\\s+(.+)',\n",
        "    'CSPA': r'CSPA:\\s+(.+)',\n",
        "    'New Total': r'New Total =\\s+\\$(.+)\\s+'\n",
        "}\n",
        "\n",
        "# Open the text file and read the contents\n",
        "with open('file.txt', 'r') as f:\n",
        "    text = f.read()\n",
        "\n",
        "# Use the regular expressions to extract the data\n",
        "groups = re.findall(r'GROUP:\\s+\\d+\\n(?:.*?\\n)*?\\*{7}', text, re.DOTALL)\n",
        "\n",
        "# Store the data in a list of dictionaries\n",
        "data = []\n",
        "for group in groups:\n",
        "    row = {}\n",
        "    for field, regex in regexes.items():\n",
        "        match = re.search(regex, group)\n",
        "        if match:\n",
        "            row[field] = match.group(1).strip()\n",
        "        else:\n",
        "            row[field] = ''\n",
        "    data.append(row)\n",
        "\n",
        "# Convert the list of dictionaries to a pandas DataFrame\n",
        "df = pd.DataFrame(data)\n",
        "\n",
        "# Convert numerical columns to floats\n",
        "# df['New Total'] = df['New Total'].str.replace(',', '').astype(float)\n",
        "# df['Group Auth Amt'] = df['Group Auth Amt'].str.replace(',', '').astype(float)\n",
        "\n",
        "# Print the resulting DataFrame\n",
        "print(df)\n",
        "\n",
        "\n",
        "\n",
        "\n",
        "df.to_excel(r'12.xlsx', index=False)\n",
        "\n"
      ],
      "metadata": {
        "id": "n4OK7llrLtOh"
      },
      "execution_count": null,
      "outputs": []
    }
  ]
}